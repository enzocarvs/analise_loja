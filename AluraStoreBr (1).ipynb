{
  "nbformat": 4,
  "nbformat_minor": 0,
  "metadata": {
    "colab": {
      "provenance": []
    },
    "kernelspec": {
      "name": "python3",
      "display_name": "Python 3"
    },
    "language_info": {
      "name": "python"
    }
  },
  "cells": [
    {
      "cell_type": "markdown",
      "source": [
        "### Importação dos dados\n",
        "\n"
      ],
      "metadata": {
        "id": "RhEdWd9YUR6H"
      }
    },
    {
      "cell_type": "code",
      "execution_count": null,
      "metadata": {
        "colab": {
          "base_uri": "https://localhost:8080/",
          "height": 206
        },
        "id": "T3EvaeQ_INIL",
        "outputId": "84e3d167-9e57-41b2-eb0c-9be898ff2fd2"
      },
      "outputs": [
        {
          "output_type": "execute_result",
          "data": {
            "text/plain": [
              "                 Produto Categoria do Produto    Preço      Frete  \\\n",
              "0     Assistente virtual          eletronicos   219.08   9.249790   \n",
              "1         Mesa de jantar               moveis   256.35  11.234305   \n",
              "2      Jogo de tabuleiro           brinquedos   279.51  21.262681   \n",
              "3            Micro-ondas     eletrodomesticos  1009.99  54.667344   \n",
              "4  Cadeira de escritório               moveis   446.99  26.964689   \n",
              "\n",
              "  Data da Compra        Vendedor Local da compra  Avaliação da compra  \\\n",
              "0     16/01/2021     Pedro Gomes              SP                    4   \n",
              "1     18/05/2022  Beatriz Moraes              RJ                    1   \n",
              "2     15/03/2021      João Souza              DF                    1   \n",
              "3     03/05/2022      João Souza              RS                    4   \n",
              "4     07/11/2020   Larissa Alves              MG                    5   \n",
              "\n",
              "  Tipo de pagamento  Quantidade de parcelas    lat    lon  \n",
              "0    cartao_credito                       8 -22.19 -48.79  \n",
              "1    cartao_credito                       4 -22.25 -42.66  \n",
              "2    cartao_credito                       1 -15.83 -47.86  \n",
              "3            boleto                       1 -30.17 -53.50  \n",
              "4            boleto                       1 -18.10 -44.38  "
            ],
            "text/html": [
              "\n",
              "  <div id=\"df-58cba960-f86b-4c03-8c74-132c5c1bf416\" class=\"colab-df-container\">\n",
              "    <div>\n",
              "<style scoped>\n",
              "    .dataframe tbody tr th:only-of-type {\n",
              "        vertical-align: middle;\n",
              "    }\n",
              "\n",
              "    .dataframe tbody tr th {\n",
              "        vertical-align: top;\n",
              "    }\n",
              "\n",
              "    .dataframe thead th {\n",
              "        text-align: right;\n",
              "    }\n",
              "</style>\n",
              "<table border=\"1\" class=\"dataframe\">\n",
              "  <thead>\n",
              "    <tr style=\"text-align: right;\">\n",
              "      <th></th>\n",
              "      <th>Produto</th>\n",
              "      <th>Categoria do Produto</th>\n",
              "      <th>Preço</th>\n",
              "      <th>Frete</th>\n",
              "      <th>Data da Compra</th>\n",
              "      <th>Vendedor</th>\n",
              "      <th>Local da compra</th>\n",
              "      <th>Avaliação da compra</th>\n",
              "      <th>Tipo de pagamento</th>\n",
              "      <th>Quantidade de parcelas</th>\n",
              "      <th>lat</th>\n",
              "      <th>lon</th>\n",
              "    </tr>\n",
              "  </thead>\n",
              "  <tbody>\n",
              "    <tr>\n",
              "      <th>0</th>\n",
              "      <td>Assistente virtual</td>\n",
              "      <td>eletronicos</td>\n",
              "      <td>219.08</td>\n",
              "      <td>9.249790</td>\n",
              "      <td>16/01/2021</td>\n",
              "      <td>Pedro Gomes</td>\n",
              "      <td>SP</td>\n",
              "      <td>4</td>\n",
              "      <td>cartao_credito</td>\n",
              "      <td>8</td>\n",
              "      <td>-22.19</td>\n",
              "      <td>-48.79</td>\n",
              "    </tr>\n",
              "    <tr>\n",
              "      <th>1</th>\n",
              "      <td>Mesa de jantar</td>\n",
              "      <td>moveis</td>\n",
              "      <td>256.35</td>\n",
              "      <td>11.234305</td>\n",
              "      <td>18/05/2022</td>\n",
              "      <td>Beatriz Moraes</td>\n",
              "      <td>RJ</td>\n",
              "      <td>1</td>\n",
              "      <td>cartao_credito</td>\n",
              "      <td>4</td>\n",
              "      <td>-22.25</td>\n",
              "      <td>-42.66</td>\n",
              "    </tr>\n",
              "    <tr>\n",
              "      <th>2</th>\n",
              "      <td>Jogo de tabuleiro</td>\n",
              "      <td>brinquedos</td>\n",
              "      <td>279.51</td>\n",
              "      <td>21.262681</td>\n",
              "      <td>15/03/2021</td>\n",
              "      <td>João Souza</td>\n",
              "      <td>DF</td>\n",
              "      <td>1</td>\n",
              "      <td>cartao_credito</td>\n",
              "      <td>1</td>\n",
              "      <td>-15.83</td>\n",
              "      <td>-47.86</td>\n",
              "    </tr>\n",
              "    <tr>\n",
              "      <th>3</th>\n",
              "      <td>Micro-ondas</td>\n",
              "      <td>eletrodomesticos</td>\n",
              "      <td>1009.99</td>\n",
              "      <td>54.667344</td>\n",
              "      <td>03/05/2022</td>\n",
              "      <td>João Souza</td>\n",
              "      <td>RS</td>\n",
              "      <td>4</td>\n",
              "      <td>boleto</td>\n",
              "      <td>1</td>\n",
              "      <td>-30.17</td>\n",
              "      <td>-53.50</td>\n",
              "    </tr>\n",
              "    <tr>\n",
              "      <th>4</th>\n",
              "      <td>Cadeira de escritório</td>\n",
              "      <td>moveis</td>\n",
              "      <td>446.99</td>\n",
              "      <td>26.964689</td>\n",
              "      <td>07/11/2020</td>\n",
              "      <td>Larissa Alves</td>\n",
              "      <td>MG</td>\n",
              "      <td>5</td>\n",
              "      <td>boleto</td>\n",
              "      <td>1</td>\n",
              "      <td>-18.10</td>\n",
              "      <td>-44.38</td>\n",
              "    </tr>\n",
              "  </tbody>\n",
              "</table>\n",
              "</div>\n",
              "    <div class=\"colab-df-buttons\">\n",
              "\n",
              "  <div class=\"colab-df-container\">\n",
              "    <button class=\"colab-df-convert\" onclick=\"convertToInteractive('df-58cba960-f86b-4c03-8c74-132c5c1bf416')\"\n",
              "            title=\"Convert this dataframe to an interactive table.\"\n",
              "            style=\"display:none;\">\n",
              "\n",
              "  <svg xmlns=\"http://www.w3.org/2000/svg\" height=\"24px\" viewBox=\"0 -960 960 960\">\n",
              "    <path d=\"M120-120v-720h720v720H120Zm60-500h600v-160H180v160Zm220 220h160v-160H400v160Zm0 220h160v-160H400v160ZM180-400h160v-160H180v160Zm440 0h160v-160H620v160ZM180-180h160v-160H180v160Zm440 0h160v-160H620v160Z\"/>\n",
              "  </svg>\n",
              "    </button>\n",
              "\n",
              "  <style>\n",
              "    .colab-df-container {\n",
              "      display:flex;\n",
              "      gap: 12px;\n",
              "    }\n",
              "\n",
              "    .colab-df-convert {\n",
              "      background-color: #E8F0FE;\n",
              "      border: none;\n",
              "      border-radius: 50%;\n",
              "      cursor: pointer;\n",
              "      display: none;\n",
              "      fill: #1967D2;\n",
              "      height: 32px;\n",
              "      padding: 0 0 0 0;\n",
              "      width: 32px;\n",
              "    }\n",
              "\n",
              "    .colab-df-convert:hover {\n",
              "      background-color: #E2EBFA;\n",
              "      box-shadow: 0px 1px 2px rgba(60, 64, 67, 0.3), 0px 1px 3px 1px rgba(60, 64, 67, 0.15);\n",
              "      fill: #174EA6;\n",
              "    }\n",
              "\n",
              "    .colab-df-buttons div {\n",
              "      margin-bottom: 4px;\n",
              "    }\n",
              "\n",
              "    [theme=dark] .colab-df-convert {\n",
              "      background-color: #3B4455;\n",
              "      fill: #D2E3FC;\n",
              "    }\n",
              "\n",
              "    [theme=dark] .colab-df-convert:hover {\n",
              "      background-color: #434B5C;\n",
              "      box-shadow: 0px 1px 3px 1px rgba(0, 0, 0, 0.15);\n",
              "      filter: drop-shadow(0px 1px 2px rgba(0, 0, 0, 0.3));\n",
              "      fill: #FFFFFF;\n",
              "    }\n",
              "  </style>\n",
              "\n",
              "    <script>\n",
              "      const buttonEl =\n",
              "        document.querySelector('#df-58cba960-f86b-4c03-8c74-132c5c1bf416 button.colab-df-convert');\n",
              "      buttonEl.style.display =\n",
              "        google.colab.kernel.accessAllowed ? 'block' : 'none';\n",
              "\n",
              "      async function convertToInteractive(key) {\n",
              "        const element = document.querySelector('#df-58cba960-f86b-4c03-8c74-132c5c1bf416');\n",
              "        const dataTable =\n",
              "          await google.colab.kernel.invokeFunction('convertToInteractive',\n",
              "                                                    [key], {});\n",
              "        if (!dataTable) return;\n",
              "\n",
              "        const docLinkHtml = 'Like what you see? Visit the ' +\n",
              "          '<a target=\"_blank\" href=https://colab.research.google.com/notebooks/data_table.ipynb>data table notebook</a>'\n",
              "          + ' to learn more about interactive tables.';\n",
              "        element.innerHTML = '';\n",
              "        dataTable['output_type'] = 'display_data';\n",
              "        await google.colab.output.renderOutput(dataTable, element);\n",
              "        const docLink = document.createElement('div');\n",
              "        docLink.innerHTML = docLinkHtml;\n",
              "        element.appendChild(docLink);\n",
              "      }\n",
              "    </script>\n",
              "  </div>\n",
              "\n",
              "\n",
              "    <div id=\"df-40f1fc04-a5a3-49d7-bbd6-651cd2d1e194\">\n",
              "      <button class=\"colab-df-quickchart\" onclick=\"quickchart('df-40f1fc04-a5a3-49d7-bbd6-651cd2d1e194')\"\n",
              "                title=\"Suggest charts\"\n",
              "                style=\"display:none;\">\n",
              "\n",
              "<svg xmlns=\"http://www.w3.org/2000/svg\" height=\"24px\"viewBox=\"0 0 24 24\"\n",
              "     width=\"24px\">\n",
              "    <g>\n",
              "        <path d=\"M19 3H5c-1.1 0-2 .9-2 2v14c0 1.1.9 2 2 2h14c1.1 0 2-.9 2-2V5c0-1.1-.9-2-2-2zM9 17H7v-7h2v7zm4 0h-2V7h2v10zm4 0h-2v-4h2v4z\"/>\n",
              "    </g>\n",
              "</svg>\n",
              "      </button>\n",
              "\n",
              "<style>\n",
              "  .colab-df-quickchart {\n",
              "      --bg-color: #E8F0FE;\n",
              "      --fill-color: #1967D2;\n",
              "      --hover-bg-color: #E2EBFA;\n",
              "      --hover-fill-color: #174EA6;\n",
              "      --disabled-fill-color: #AAA;\n",
              "      --disabled-bg-color: #DDD;\n",
              "  }\n",
              "\n",
              "  [theme=dark] .colab-df-quickchart {\n",
              "      --bg-color: #3B4455;\n",
              "      --fill-color: #D2E3FC;\n",
              "      --hover-bg-color: #434B5C;\n",
              "      --hover-fill-color: #FFFFFF;\n",
              "      --disabled-bg-color: #3B4455;\n",
              "      --disabled-fill-color: #666;\n",
              "  }\n",
              "\n",
              "  .colab-df-quickchart {\n",
              "    background-color: var(--bg-color);\n",
              "    border: none;\n",
              "    border-radius: 50%;\n",
              "    cursor: pointer;\n",
              "    display: none;\n",
              "    fill: var(--fill-color);\n",
              "    height: 32px;\n",
              "    padding: 0;\n",
              "    width: 32px;\n",
              "  }\n",
              "\n",
              "  .colab-df-quickchart:hover {\n",
              "    background-color: var(--hover-bg-color);\n",
              "    box-shadow: 0 1px 2px rgba(60, 64, 67, 0.3), 0 1px 3px 1px rgba(60, 64, 67, 0.15);\n",
              "    fill: var(--button-hover-fill-color);\n",
              "  }\n",
              "\n",
              "  .colab-df-quickchart-complete:disabled,\n",
              "  .colab-df-quickchart-complete:disabled:hover {\n",
              "    background-color: var(--disabled-bg-color);\n",
              "    fill: var(--disabled-fill-color);\n",
              "    box-shadow: none;\n",
              "  }\n",
              "\n",
              "  .colab-df-spinner {\n",
              "    border: 2px solid var(--fill-color);\n",
              "    border-color: transparent;\n",
              "    border-bottom-color: var(--fill-color);\n",
              "    animation:\n",
              "      spin 1s steps(1) infinite;\n",
              "  }\n",
              "\n",
              "  @keyframes spin {\n",
              "    0% {\n",
              "      border-color: transparent;\n",
              "      border-bottom-color: var(--fill-color);\n",
              "      border-left-color: var(--fill-color);\n",
              "    }\n",
              "    20% {\n",
              "      border-color: transparent;\n",
              "      border-left-color: var(--fill-color);\n",
              "      border-top-color: var(--fill-color);\n",
              "    }\n",
              "    30% {\n",
              "      border-color: transparent;\n",
              "      border-left-color: var(--fill-color);\n",
              "      border-top-color: var(--fill-color);\n",
              "      border-right-color: var(--fill-color);\n",
              "    }\n",
              "    40% {\n",
              "      border-color: transparent;\n",
              "      border-right-color: var(--fill-color);\n",
              "      border-top-color: var(--fill-color);\n",
              "    }\n",
              "    60% {\n",
              "      border-color: transparent;\n",
              "      border-right-color: var(--fill-color);\n",
              "    }\n",
              "    80% {\n",
              "      border-color: transparent;\n",
              "      border-right-color: var(--fill-color);\n",
              "      border-bottom-color: var(--fill-color);\n",
              "    }\n",
              "    90% {\n",
              "      border-color: transparent;\n",
              "      border-bottom-color: var(--fill-color);\n",
              "    }\n",
              "  }\n",
              "</style>\n",
              "\n",
              "      <script>\n",
              "        async function quickchart(key) {\n",
              "          const quickchartButtonEl =\n",
              "            document.querySelector('#' + key + ' button');\n",
              "          quickchartButtonEl.disabled = true;  // To prevent multiple clicks.\n",
              "          quickchartButtonEl.classList.add('colab-df-spinner');\n",
              "          try {\n",
              "            const charts = await google.colab.kernel.invokeFunction(\n",
              "                'suggestCharts', [key], {});\n",
              "          } catch (error) {\n",
              "            console.error('Error during call to suggestCharts:', error);\n",
              "          }\n",
              "          quickchartButtonEl.classList.remove('colab-df-spinner');\n",
              "          quickchartButtonEl.classList.add('colab-df-quickchart-complete');\n",
              "        }\n",
              "        (() => {\n",
              "          let quickchartButtonEl =\n",
              "            document.querySelector('#df-40f1fc04-a5a3-49d7-bbd6-651cd2d1e194 button');\n",
              "          quickchartButtonEl.style.display =\n",
              "            google.colab.kernel.accessAllowed ? 'block' : 'none';\n",
              "        })();\n",
              "      </script>\n",
              "    </div>\n",
              "\n",
              "    </div>\n",
              "  </div>\n"
            ],
            "application/vnd.google.colaboratory.intrinsic+json": {
              "type": "dataframe",
              "variable_name": "loja",
              "summary": "{\n  \"name\": \"loja\",\n  \"rows\": 2359,\n  \"fields\": [\n    {\n      \"column\": \"Produto\",\n      \"properties\": {\n        \"dtype\": \"category\",\n        \"num_unique_values\": 51,\n        \"samples\": [\n          \"Viol\\u00e3o\",\n          \"Bola de basquete\",\n          \"Smartwatch\"\n        ],\n        \"semantic_type\": \"\",\n        \"description\": \"\"\n      }\n    },\n    {\n      \"column\": \"Categoria do Produto\",\n      \"properties\": {\n        \"dtype\": \"category\",\n        \"num_unique_values\": 8,\n        \"samples\": [\n          \"moveis\",\n          \"esporte e lazer\",\n          \"eletronicos\"\n        ],\n        \"semantic_type\": \"\",\n        \"description\": \"\"\n      }\n    },\n    {\n      \"column\": \"Pre\\u00e7o\",\n      \"properties\": {\n        \"dtype\": \"number\",\n        \"std\": 819.5827782539145,\n        \"min\": 10.07,\n        \"max\": 3969.38,\n        \"num_unique_values\": 2315,\n        \"samples\": [\n          446.11,\n          107.31,\n          65.86\n        ],\n        \"semantic_type\": \"\",\n        \"description\": \"\"\n      }\n    },\n    {\n      \"column\": \"Frete\",\n      \"properties\": {\n        \"dtype\": \"number\",\n        \"std\": 43.814183327408166,\n        \"min\": 0.0,\n        \"max\": 214.3770604781,\n        \"num_unique_values\": 2149,\n        \"samples\": [\n          83.815279607,\n          16.069664669,\n          14.0344876928\n        ],\n        \"semantic_type\": \"\",\n        \"description\": \"\"\n      }\n    },\n    {\n      \"column\": \"Data da Compra\",\n      \"properties\": {\n        \"dtype\": \"object\",\n        \"num_unique_values\": 1018,\n        \"samples\": [\n          \"15/09/2022\",\n          \"03/06/2020\",\n          \"06/11/2021\"\n        ],\n        \"semantic_type\": \"\",\n        \"description\": \"\"\n      }\n    },\n    {\n      \"column\": \"Vendedor\",\n      \"properties\": {\n        \"dtype\": \"category\",\n        \"num_unique_values\": 14,\n        \"samples\": [\n          \"Juliana Costa\",\n          \"Mariana Ferreira\",\n          \"Pedro Gomes\"\n        ],\n        \"semantic_type\": \"\",\n        \"description\": \"\"\n      }\n    },\n    {\n      \"column\": \"Local da compra\",\n      \"properties\": {\n        \"dtype\": \"category\",\n        \"num_unique_values\": 26,\n        \"samples\": [\n          \"TO\",\n          \"RN\",\n          \"SP\"\n        ],\n        \"semantic_type\": \"\",\n        \"description\": \"\"\n      }\n    },\n    {\n      \"column\": \"Avalia\\u00e7\\u00e3o da compra\",\n      \"properties\": {\n        \"dtype\": \"number\",\n        \"std\": 1,\n        \"min\": 1,\n        \"max\": 5,\n        \"num_unique_values\": 5,\n        \"samples\": [\n          1,\n          2,\n          5\n        ],\n        \"semantic_type\": \"\",\n        \"description\": \"\"\n      }\n    },\n    {\n      \"column\": \"Tipo de pagamento\",\n      \"properties\": {\n        \"dtype\": \"category\",\n        \"num_unique_values\": 4,\n        \"samples\": [\n          \"boleto\",\n          \"cartao_debito\",\n          \"cartao_credito\"\n        ],\n        \"semantic_type\": \"\",\n        \"description\": \"\"\n      }\n    },\n    {\n      \"column\": \"Quantidade de parcelas\",\n      \"properties\": {\n        \"dtype\": \"number\",\n        \"std\": 2,\n        \"min\": 1,\n        \"max\": 24,\n        \"num_unique_values\": 15,\n        \"samples\": [\n          7,\n          14,\n          8\n        ],\n        \"semantic_type\": \"\",\n        \"description\": \"\"\n      }\n    },\n    {\n      \"column\": \"lat\",\n      \"properties\": {\n        \"dtype\": \"number\",\n        \"std\": 5.372399916530833,\n        \"min\": -30.17,\n        \"max\": 1.41,\n        \"num_unique_values\": 26,\n        \"samples\": [\n          -9.46,\n          -5.81,\n          -22.19\n        ],\n        \"semantic_type\": \"\",\n        \"description\": \"\"\n      }\n    },\n    {\n      \"column\": \"lon\",\n      \"properties\": {\n        \"dtype\": \"number\",\n        \"std\": 4.183180020544179,\n        \"min\": -70.55,\n        \"max\": -36.59,\n        \"num_unique_values\": 26,\n        \"samples\": [\n          -48.26,\n          -36.59,\n          -48.79\n        ],\n        \"semantic_type\": \"\",\n        \"description\": \"\"\n      }\n    }\n  ]\n}"
            }
          },
          "metadata": {},
          "execution_count": 2
        }
      ],
      "source": [
        "import pandas as pd\n",
        "\n",
        "url = \"https://raw.githubusercontent.com/alura-es-cursos/challenge1-data-science/refs/heads/main/base-de-dados-challenge-1/loja_1.csv\"\n",
        "url2 = \"https://raw.githubusercontent.com/alura-es-cursos/challenge1-data-science/refs/heads/main/base-de-dados-challenge-1/loja_2.csv\"\n",
        "url3 = \"https://raw.githubusercontent.com/alura-es-cursos/challenge1-data-science/refs/heads/main/base-de-dados-challenge-1/loja_3.csv\"\n",
        "url4 = \"https://raw.githubusercontent.com/alura-es-cursos/challenge1-data-science/refs/heads/main/base-de-dados-challenge-1/loja_4.csv\"\n",
        "\n",
        "loja = pd.read_csv(url)\n",
        "loja2 = pd.read_csv(url2)\n",
        "loja3 = pd.read_csv(url3)\n",
        "loja4 = pd.read_csv(url4)\n",
        "\n",
        "loja.head()"
      ]
    },
    {
      "cell_type": "markdown",
      "source": [
        "#1. Análise do faturamento\n"
      ],
      "metadata": {
        "id": "X62IW3KFUIYm"
      }
    },
    {
      "cell_type": "code",
      "source": [
        "# Somando apenas o preço das vendas, sem considerar as parcelas\n",
        "faturamento_loja1 = loja['Preço'].astype(float).sum()\n",
        "faturamento_loja2 = loja2['Preço'].astype(float).sum()\n",
        "faturamento_loja3 = loja3['Preço'].astype(float).sum()\n",
        "faturamento_loja4 = loja4['Preço'].astype(float).sum()\n",
        "\n",
        "# Mostrar os resultados\n",
        "print(f\"Faturamento Loja 1: R${faturamento_loja1:.2f}\")\n",
        "print(f\"Faturamento Loja 2: R${faturamento_loja2:.2f}\")\n",
        "print(f\"Faturamento Loja 3: R${faturamento_loja3:.2f}\")\n",
        "print(f\"Faturamento Loja 4: R${faturamento_loja4:.2f}\")\n",
        "\n",
        "# Faturamento total de todas as lojas\n",
        "faturamento_total = faturamento_loja1 + faturamento_loja2 + faturamento_loja3 + faturamento_loja4\n",
        "print(f\"\\nFaturamento total de todas as lojas: R${faturamento_total:.2f}\")"
      ],
      "metadata": {
        "id": "xykobSftV64I",
        "colab": {
          "base_uri": "https://localhost:8080/"
        },
        "outputId": "7a222630-fec8-4a68-c1de-797f52986bc8"
      },
      "execution_count": null,
      "outputs": [
        {
          "output_type": "stream",
          "name": "stdout",
          "text": [
            "Faturamento Loja 1: R$1534509.12\n",
            "Faturamento Loja 2: R$1488459.06\n",
            "Faturamento Loja 3: R$1464025.03\n",
            "Faturamento Loja 4: R$1384497.58\n",
            "\n",
            "Faturamento total de todas as lojas: R$5871490.79\n"
          ]
        }
      ]
    },
    {
      "cell_type": "code",
      "source": [
        "import matplotlib.pyplot as plt\n",
        "\n",
        "# Faturamento total por loja\n",
        "faturamentos = [\n",
        "    loja['Preço'].sum(),\n",
        "    loja2['Preço'].sum(),\n",
        "    loja3['Preço'].sum(),\n",
        "    loja4['Preço'].sum()\n",
        "]\n",
        "\n",
        "lojas = ['Loja 1', 'Loja 2', 'Loja 3', 'Loja 4']\n",
        "\n",
        "plt.figure(figsize=(8,5))\n",
        "plt.bar(lojas, faturamentos, color='mediumseagreen')\n",
        "plt.title('Faturamento Total por Loja')\n",
        "plt.xlabel('Loja')\n",
        "plt.ylabel('Faturamento (R$)')\n",
        "plt.grid(axis='y', linestyle='--', alpha=0.5)\n",
        "plt.tight_layout()\n",
        "plt.show()"
      ],
      "metadata": {
        "colab": {
          "base_uri": "https://localhost:8080/",
          "height": 507
        },
        "id": "ByFVSfIKHkEq",
        "outputId": "d368c9cb-ff69-48dd-ff4e-c9f9ace49914"
      },
      "execution_count": null,
      "outputs": [
        {
          "output_type": "display_data",
          "data": {
            "text/plain": [
              "<Figure size 800x500 with 1 Axes>"
            ],
            "image/png": "[encoded data removed]"
          },
          "metadata": {}
        }
      ]
    },
    {
      "cell_type": "markdown",
      "source": [
        "# 2. Vendas por Categoria\n"
      ],
      "metadata": {
        "id": "2V_vcAPzWZmR"
      }
    },
    {
      "cell_type": "code",
      "source": [
        "def vendas_por_categoria(loja, numero):\n",
        "    vendas = loja.groupby('Categoria do Produto')['Preço'].sum()\n",
        "    print(f\"\\nVendas por categoria na Loja {numero}:\")\n",
        "    print(vendas)\n",
        "\n",
        "vendas_por_categoria(loja, 1)\n",
        "vendas_por_categoria(loja2, 2)\n",
        "vendas_por_categoria(loja3, 3)\n",
        "vendas_por_categoria(loja4, 4)"
      ],
      "metadata": {
        "id": "A34YupIuYhfF",
        "colab": {
          "base_uri": "https://localhost:8080/"
        },
        "outputId": "f152efe5-4b5e-4a71-dd8f-d6650fb2cac2"
      },
      "execution_count": null,
      "outputs": [
        {
          "output_type": "stream",
          "name": "stdout",
          "text": [
            "\n",
            "Vendas por categoria na Loja 1:\n",
            "Categoria do Produto\n",
            "brinquedos                23993.78\n",
            "eletrodomesticos         484913.36\n",
            "eletronicos              572659.23\n",
            "esporte e lazer           52387.55\n",
            "instrumentos musicais    121731.69\n",
            "livros                    11713.92\n",
            "moveis                   250178.11\n",
            "utilidades domesticas     16931.48\n",
            "Name: Preço, dtype: float64\n",
            "\n",
            "Vendas por categoria na Loja 2:\n",
            "Categoria do Produto\n",
            "brinquedos                21262.21\n",
            "eletrodomesticos         464758.13\n",
            "eletronicos              547773.71\n",
            "esporte e lazer           46326.09\n",
            "instrumentos musicais    139987.03\n",
            "livros                    13454.35\n",
            "moveis                   235234.68\n",
            "utilidades domesticas     19662.86\n",
            "Name: Preço, dtype: float64\n",
            "\n",
            "Vendas por categoria na Loja 3:\n",
            "Categoria do Produto\n",
            "brinquedos                25869.20\n",
            "eletrodomesticos         438984.89\n",
            "eletronicos              547699.92\n",
            "esporte e lazer           47456.10\n",
            "instrumentos musicais    103174.45\n",
            "livros                    12664.70\n",
            "moveis                   268095.56\n",
            "utilidades domesticas     20080.21\n",
            "Name: Preço, dtype: float64\n",
            "\n",
            "Vendas por categoria na Loja 4:\n",
            "Categoria do Produto\n",
            "brinquedos                27015.67\n",
            "eletrodomesticos         377680.65\n",
            "eletronicos              545966.86\n",
            "esporte e lazer           44465.65\n",
            "instrumentos musicais    100136.50\n",
            "livros                    12427.77\n",
            "moveis                   256705.65\n",
            "utilidades domesticas     20098.83\n",
            "Name: Preço, dtype: float64\n"
          ]
        }
      ]
    },
    {
      "cell_type": "code",
      "source": [
        "# Usando os dados da loja inteira (ou pode usar uma loja específica)\n",
        "categorias = pd.concat([loja, loja2, loja3, loja4])\n",
        "vendas_categorias = categorias['Categoria do Produto'].value_counts()\n",
        "\n",
        "plt.figure(figsize=(7,7))\n",
        "plt.pie(vendas_categorias, labels=vendas_categorias.index, autopct='%1.1f%%', startangle=90)\n",
        "plt.title('Distribuição das Categorias de Produtos Vendidos')\n",
        "plt.axis('equal')\n",
        "plt.tight_layout()\n",
        "plt.show()"
      ],
      "metadata": {
        "id": "yZR6cOjXYSk1",
        "colab": {
          "base_uri": "https://localhost:8080/",
          "height": 707
        },
        "outputId": "b7cb4154-41e4-4f4d-bb4d-52f911ecc5dd"
      },
      "execution_count": null,
      "outputs": [
        {
          "output_type": "display_data",
          "data": {
            "text/plain": [
              "<Figure size 700x700 with 1 Axes>"
            ],
            "image/png": "[encoded data removed]"
          },
          "metadata": {}
        }
      ]
    },
    {
      "cell_type": "markdown",
      "source": [
        "# 3. Média de Avaliação das Lojas"
      ],
      "metadata": {
        "id": "Rq6tU_xSY3jk"
      }
    },
    {
      "cell_type": "code",
      "source": [
        "# Função para calcular e mostrar a média de avaliação de uma loja\n",
        "def avaliacao_media(loja, numero):\n",
        "    media = loja['Avaliação da compra'].astype(float).mean()\n",
        "    print(f\"Avaliação média da Loja {numero}: {media:.2f}\")\n",
        "\n",
        "# Chamando a função para cada loja\n",
        "avaliacao_media(loja, 1)\n",
        "avaliacao_media(loja2, 2)\n",
        "avaliacao_media(loja3, 3)\n",
        "avaliacao_media(loja4, 4)"
      ],
      "metadata": {
        "id": "bh3jjjJwY5MU",
        "colab": {
          "base_uri": "https://localhost:8080/"
        },
        "outputId": "68f0cc33-493c-45d5-f401-607668bf53d7"
      },
      "execution_count": null,
      "outputs": [
        {
          "output_type": "stream",
          "name": "stdout",
          "text": [
            "Avaliação média da Loja 1: 3.98\n",
            "Avaliação média da Loja 2: 4.04\n",
            "Avaliação média da Loja 3: 4.05\n",
            "Avaliação média da Loja 4: 4.00\n"
          ]
        }
      ]
    },
    {
      "cell_type": "code",
      "source": [
        "# Média de avaliação por loja\n",
        "avaliacoes = [\n",
        "    loja['Avaliação da compra'].mean(),\n",
        "    loja2['Avaliação da compra'].mean(),\n",
        "    loja3['Avaliação da compra'].mean(),\n",
        "    loja4['Avaliação da compra'].mean()\n",
        "]\n",
        "\n",
        "plt.figure(figsize=(8,5))\n",
        "plt.barh(lojas, avaliacoes, color='skyblue')\n",
        "plt.title('Avaliação Média por Loja')\n",
        "plt.xlabel('Média de Avaliação')\n",
        "plt.xlim(0,5)\n",
        "plt.grid(axis='x', linestyle='--', alpha=0.5)\n",
        "plt.tight_layout()\n",
        "plt.show()"
      ],
      "metadata": {
        "id": "I0KkjPoTY88F",
        "colab": {
          "base_uri": "https://localhost:8080/",
          "height": 507
        },
        "outputId": "d1c92b53-bacb-4085-c321-652cb1ce9605"
      },
      "execution_count": null,
      "outputs": [
        {
          "output_type": "display_data",
          "data": {
            "text/plain": [
              "<Figure size 800x500 with 1 Axes>"
            ],
            "image/png": "[encoded data removed]"
          },
          "metadata": {}
        }
      ]
    },
    {
      "cell_type": "markdown",
      "source": [
        "# 4. Produtos Mais e Menos Vendidos\n",
        "\n",
        "\n"
      ],
      "metadata": {
        "id": "DmNp1KPBZCm-"
      }
    },
    {
      "cell_type": "code",
      "source": [
        "# Função para exibir os 3 produtos mais e menos vendidos com vendas e faturamento\n",
        "def top_produtos(loja, numero):\n",
        "    # Contar quantas vezes cada produto foi vendido\n",
        "    contagem = loja['Produto'].value_counts()\n",
        "\n",
        "    # Calcular o faturamento total por produto\n",
        "    faturamento = loja.groupby('Produto')['Preço'].sum()\n",
        "\n",
        "    # Criar DataFrame com ambas as informações\n",
        "    resumo = pd.DataFrame({\n",
        "        'Quantidade de Vendas': contagem,\n",
        "        'Faturamento Total': faturamento\n",
        "    })\n",
        "\n",
        "    # Ordenar do mais vendido ao menos\n",
        "    resumo_ordenado = resumo.sort_values(by='Quantidade de Vendas', ascending=False)\n",
        "\n",
        "    print(f\"\\n Loja {numero} - Top 3 mais vendidos:\")\n",
        "    print(resumo_ordenado.head(3))\n",
        "\n",
        "    print(f\"\\n Loja {numero} - Top 3 menos vendidos:\")\n",
        "    print(resumo_ordenado.tail(3))\n",
        "\n",
        "# Chamando a função para cada loja\n",
        "top_produtos(loja, 1)\n",
        "top_produtos(loja2, 2)\n",
        "top_produtos(loja3, 3)\n",
        "top_produtos(loja4, 4)"
      ],
      "metadata": {
        "id": "qoyjqijQZHfF",
        "colab": {
          "base_uri": "https://localhost:8080/"
        },
        "outputId": "ad4c66d9-5e98-49e1-a5a8-21196e659bba"
      },
      "execution_count": null,
      "outputs": [
        {
          "output_type": "stream",
          "name": "stdout",
          "text": [
            "\n",
            " Loja 1 - Top 3 mais vendidos:\n",
            "               Quantidade de Vendas  Faturamento Total\n",
            "Produto                                               \n",
            "TV Led UHD 4K                    60          189534.28\n",
            "Micro-ondas                      60           46348.89\n",
            "Guarda roupas                    60           39282.78\n",
            "\n",
            " Loja 1 - Top 3 menos vendidos:\n",
            "                   Quantidade de Vendas  Faturamento Total\n",
            "Produto                                                   \n",
            "Panela de pressão                    35            3505.71\n",
            "Celular ABXY                         33           43534.47\n",
            "Headset                              33            6307.71\n",
            "\n",
            " Loja 2 - Top 3 mais vendidos:\n",
            "                          Quantidade de Vendas  Faturamento Total\n",
            "Produto                                                          \n",
            "Iniciando em programação                    65            4169.96\n",
            "Micro-ondas                                 62           48256.37\n",
            "Bateria                                     61           61566.87\n",
            "\n",
            " Loja 2 - Top 3 menos vendidos:\n",
            "                   Quantidade de Vendas  Faturamento Total\n",
            "Produto                                                   \n",
            "Impressora                           34           13846.69\n",
            "Mesa de jantar                       34           11516.31\n",
            "Jogo de tabuleiro                    32            7749.58\n",
            "\n",
            " Loja 3 - Top 3 mais vendidos:\n",
            "                Quantidade de Vendas  Faturamento Total\n",
            "Produto                                                \n",
            "Kit banquetas                     57           22265.96\n",
            "Mesa de jantar                    56           19101.40\n",
            "Cama king                         56           51779.90\n",
            "\n",
            " Loja 3 - Top 3 menos vendidos:\n",
            "                  Quantidade de Vendas  Faturamento Total\n",
            "Produto                                                  \n",
            "Jogo de copos                       36            1614.20\n",
            "Mochila                             36            4729.54\n",
            "Blocos de montar                    35            1649.81\n",
            "\n",
            " Loja 4 - Top 3 mais vendidos:\n",
            "           Quantidade de Vendas  Faturamento Total\n",
            "Produto                                           \n",
            "Cama box                     62           43928.57\n",
            "Faqueiro                     59            3532.16\n",
            "Cama king                    56           50073.16\n",
            "\n",
            " Loja 4 - Top 3 menos vendidos:\n",
            "               Quantidade de Vendas  Faturamento Total\n",
            "Produto                                               \n",
            "Violão                           37           15009.67\n",
            "Guarda roupas                    34           21895.36\n",
            "Guitarra                         33           34430.67\n"
          ]
        }
      ]
    },
    {
      "cell_type": "code",
      "source": [],
      "metadata": {
        "id": "0Sw3sd4IZIGW"
      },
      "execution_count": null,
      "outputs": []
    },
    {
      "cell_type": "markdown",
      "source": [
        "# 5. Frete Médio por Loja\n"
      ],
      "metadata": {
        "id": "Fl0cGi3bZKqU"
      }
    },
    {
      "cell_type": "code",
      "source": [
        "# Calculando o frete médio de cada loja\n",
        "frete_medio_loja1 = loja['Frete'].astype(float).mean()\n",
        "frete_medio_loja2 = loja2['Frete'].astype(float).mean()\n",
        "frete_medio_loja3 = loja3['Frete'].astype(float).mean()\n",
        "frete_medio_loja4 = loja4['Frete'].astype(float).mean()\n",
        "\n",
        "# Mostrando os resultados\n",
        "print(f\"Frete médio Loja 1: R${frete_medio_loja1:.2f}\")\n",
        "print(f\"Frete médio Loja 2: R${frete_medio_loja2:.2f}\")\n",
        "print(f\"Frete médio Loja 3: R${frete_medio_loja3:.2f}\")\n",
        "print(f\"Frete médio Loja 4: R${frete_medio_loja4:.2f}\")"
      ],
      "metadata": {
        "id": "S2JeaCykZNy9",
        "colab": {
          "base_uri": "https://localhost:8080/"
        },
        "outputId": "876833ed-38bd-4a60-b91b-7d71556d2d2b"
      },
      "execution_count": null,
      "outputs": [
        {
          "output_type": "stream",
          "name": "stdout",
          "text": [
            "Frete médio Loja 1: R$34.69\n",
            "Frete médio Loja 2: R$33.62\n",
            "Frete médio Loja 3: R$33.07\n",
            "Frete médio Loja 4: R$31.28\n"
          ]
        }
      ]
    },
    {
      "cell_type": "markdown",
      "source": [
        "# Análise das Lojas do Senhor João\n",
        "\n",
        "## Objetivo\n",
        "\n",
        "O objetivo dessa análise é ajudar o Senhor João a decidir qual das quatro lojas da rede Alura Store vender, com base em dados nos dados de vendas, desempenho comercial e avaliação dos clientes. A decisão foi tomada a partir da análise dos seguintes fatores:\n",
        "\n",
        "- Faturamento total das lojas  \n",
        "- Categorias de produtos mais e menos vendidas  \n",
        "- Média das avaliações dos clientes  \n",
        "- Produtos mais e menos vendidos  \n",
        "- Frete médio por loja  \n",
        "\n",
        "## Análises Realizadas\n",
        "\n",
        "### 1. Faturamento Total por Loja\n",
        "A análise do faturamento total mostrou que:\n",
        "\n",
        "- A **Loja 1** foi a que mais faturou, seguida da Loja 2.\n",
        "- A **Loja 4 apresentou o menor faturamento**, cerca de R$150 mil abaixo da penúltima colocada.\n",
        "\n",
        "### 2. Vendas por Categoria de Produto\n",
        "As categorias mais vendidas variaram entre as lojas, mas de forma geral:\n",
        "\n",
        "- **Eletrônicos** e **Eletrodomésticos** foram as categorias mais populares.\n",
        "- Algumas lojas apresentaram baixa diversidade de categorias, o que pode afetar a atratividade para clientes.\n",
        "- Apesar de “Móveis” aparecer com bons números, especialmente na Loja 3, ela **não superou eletrônicos em nenhuma loja** individualmente.\n",
        "\n",
        "\n",
        "### 3. Média das Avaliações por Loja\n",
        "As médias de avaliação de clientes mostraram que:\n",
        "\n",
        "- A **Loja 3 recebeu as melhores avaliações**, mostrando maior satisfação do cliente.\n",
        "- A **Loja 1 teve a pior avaliação média**, apesar de seu alto faturamento.\n",
        "\n",
        "### 4. Produtos Mais e Menos Vendidos\n",
        "- Em todas as lojas, houve **produtos com vendas muito concentradas**, o que pode representar dependência de poucos itens.\n",
        "\n",
        "Exemplos por loja:\n",
        "\n",
        "- Loja 1: TV 4K, Micro-ondas, Guarda-roupas\n",
        "- Loja 2: Livro “Iniciando em programação”, Micro-ondas, Bateria\n",
        "- Loja 3: Kit Banquetas, Mesa de jantar, Cama King\n",
        "- Loja 4: Cama box, Faqueiro, Cama King\n",
        "\n",
        "### 5. Frete Médio por Loja\n",
        "- A Loja 1 teve o frete médio mais alto, o que pode afastar clientes sensíveis ao custo de entrega.\n",
        "- A Loja 4 teve o frete médio mais baixo, sendo mais competitiva nesse aspecto.\n",
        "\n",
        "\n",
        "## Conclusão e Recomendação Final\n",
        "\n",
        "Com base em todos os dados analisados, **a recomendação é que o Senhor João venda a Loja 4**.\n",
        "\n",
        "### Justificativa:\n",
        "\n",
        "- **Menor faturamento** entre as quatro lojas.\n",
        "- **Produtos de alto valor com baixa saída**, indicando estoque parado.\n",
        "- Apesar do **menor custo de frete**, a loja não se destaca em nenhuma outra métrica.\n",
        "- **Avaliação dos clientes apenas mediana (4.00)**.\n",
        "- **Faturamento em categorias principais** como eletrônicos e eletrodomésticos foi menor do que nas outras lojas.\n",
        "\n",
        "As demais lojas (principalmente Loja 1 e Loja 3) demonstram **bom desempenho em faturamento, avaliação e variedade de produtos vendidos**, sendo mais vantajosas para manter na operação.\n"
      ],
      "metadata": {
        "id": "sERTryqXIqM7"
      }
    }
  ]
}